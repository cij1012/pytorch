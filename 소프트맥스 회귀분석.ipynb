{
  "nbformat": 4,
  "nbformat_minor": 0,
  "metadata": {
    "colab": {
      "name": "Untitled12.ipynb",
      "provenance": [],
      "authorship_tag": "ABX9TyPiG6Vl00b6BQcPpKCxu7TW",
      "include_colab_link": true
    },
    "kernelspec": {
      "name": "python3",
      "display_name": "Python 3"
    }
  },
  "cells": [
    {
      "cell_type": "markdown",
      "metadata": {
        "id": "view-in-github",
        "colab_type": "text"
      },
      "source": [
        "<a href=\"https://colab.research.google.com/github/cij1012/pytrorch/blob/master/%EC%86%8C%ED%94%84%ED%8A%B8%EB%A7%A5%EC%8A%A4%20%ED%9A%8C%EA%B7%80%EB%B6%84%EC%84%9D.ipynb\" target=\"_parent\"><img src=\"https://colab.research.google.com/assets/colab-badge.svg\" alt=\"Open In Colab\"/></a>"
      ]
    },
    {
      "cell_type": "markdown",
      "metadata": {
        "id": "2JoxJyVznQEU",
        "colab_type": "text"
      },
      "source": [
        "소프트맥스 회귀의 비용함수 구현하기"
      ]
    },
    {
      "cell_type": "code",
      "metadata": {
        "id": "O4awvlLGmkyL",
        "colab_type": "code",
        "outputId": "f1dee953-ab11-4cd9-9e19-39b79b52bd6f",
        "colab": {
          "base_uri": "https://localhost:8080/",
          "height": 35
        }
      },
      "source": [
        "import torch\n",
        "import torch.nn.functional as F\n",
        "torch.manual_seed(1)"
      ],
      "execution_count": 0,
      "outputs": [
        {
          "output_type": "execute_result",
          "data": {
            "text/plain": [
              "<torch._C.Generator at 0x7f10f55d6fb0>"
            ]
          },
          "metadata": {
            "tags": []
          },
          "execution_count": 2
        }
      ]
    },
    {
      "cell_type": "code",
      "metadata": {
        "id": "QgmRquwMnMHD",
        "colab_type": "code",
        "colab": {}
      },
      "source": [
        "z = torch.FloatTensor([1,2,3])"
      ],
      "execution_count": 0,
      "outputs": []
    },
    {
      "cell_type": "code",
      "metadata": {
        "id": "J_w3nX0NnWb6",
        "colab_type": "code",
        "outputId": "87e87ef9-f453-45fe-a6e4-e3c5e6010d58",
        "colab": {
          "base_uri": "https://localhost:8080/",
          "height": 35
        }
      },
      "source": [
        "hypothesis = F.softmax(z, dim=0)\n",
        "hypothesis"
      ],
      "execution_count": 0,
      "outputs": [
        {
          "output_type": "execute_result",
          "data": {
            "text/plain": [
              "tensor([0.0900, 0.2447, 0.6652])"
            ]
          },
          "metadata": {
            "tags": []
          },
          "execution_count": 4
        }
      ]
    },
    {
      "cell_type": "code",
      "metadata": {
        "id": "5uBR5F7GngqK",
        "colab_type": "code",
        "outputId": "166a8ab2-8e5a-4303-d6d6-e493981dc7f5",
        "colab": {
          "base_uri": "https://localhost:8080/",
          "height": 35
        }
      },
      "source": [
        "hypothesis.sum()"
      ],
      "execution_count": 0,
      "outputs": [
        {
          "output_type": "execute_result",
          "data": {
            "text/plain": [
              "tensor(1.)"
            ]
          },
          "metadata": {
            "tags": []
          },
          "execution_count": 5
        }
      ]
    },
    {
      "cell_type": "code",
      "metadata": {
        "id": "8DoL79APni2S",
        "colab_type": "code",
        "outputId": "81fbeb86-b446-4616-af84-2eaf35958b05",
        "colab": {
          "base_uri": "https://localhost:8080/",
          "height": 70
        }
      },
      "source": [
        "z = torch.rand(3, 5, requires_grad=True)\n",
        "z"
      ],
      "execution_count": 0,
      "outputs": [
        {
          "output_type": "execute_result",
          "data": {
            "text/plain": [
              "tensor([[0.4550, 0.5725, 0.4980, 0.9371, 0.6556],\n",
              "        [0.3138, 0.1980, 0.4162, 0.2843, 0.3398],\n",
              "        [0.5239, 0.7981, 0.7718, 0.0112, 0.8100]], requires_grad=True)"
            ]
          },
          "metadata": {
            "tags": []
          },
          "execution_count": 8
        }
      ]
    },
    {
      "cell_type": "code",
      "metadata": {
        "id": "vcTAq6o4nmUk",
        "colab_type": "code",
        "outputId": "fd6079ab-ee1a-48a7-ba97-1abe9362031a",
        "colab": {
          "base_uri": "https://localhost:8080/",
          "height": 70
        }
      },
      "source": [
        "hypothesis = F.softmax(z, dim = 1)\n",
        "hypothesis"
      ],
      "execution_count": 0,
      "outputs": [
        {
          "output_type": "execute_result",
          "data": {
            "text/plain": [
              "tensor([[0.1664, 0.1871, 0.1737, 0.2695, 0.2033],\n",
              "        [0.2002, 0.1783, 0.2218, 0.1944, 0.2054],\n",
              "        [0.1809, 0.2380, 0.2318, 0.1084, 0.2409]], grad_fn=<SoftmaxBackward>)"
            ]
          },
          "metadata": {
            "tags": []
          },
          "execution_count": 14
        }
      ]
    },
    {
      "cell_type": "code",
      "metadata": {
        "id": "qLMTjGG8nwdp",
        "colab_type": "code",
        "outputId": "6464f9c8-4fe3-4cf5-ae96-90ce31b8b3fc",
        "colab": {
          "base_uri": "https://localhost:8080/",
          "height": 35
        }
      },
      "source": [
        "y = torch.randint(5, (3,)).long()\n",
        "y"
      ],
      "execution_count": 0,
      "outputs": [
        {
          "output_type": "execute_result",
          "data": {
            "text/plain": [
              "tensor([3, 1, 2])"
            ]
          },
          "metadata": {
            "tags": []
          },
          "execution_count": 16
        }
      ]
    },
    {
      "cell_type": "code",
      "metadata": {
        "id": "OwJVPqvFn9_i",
        "colab_type": "code",
        "outputId": "2c872703-1572-42e6-9293-342a47526090",
        "colab": {
          "base_uri": "https://localhost:8080/",
          "height": 70
        }
      },
      "source": [
        "y_one_hot = torch.zeros_like(hypothesis)\n",
        "y_one_hot.scatter_(1, y.unsqueeze(1), 1)"
      ],
      "execution_count": 0,
      "outputs": [
        {
          "output_type": "execute_result",
          "data": {
            "text/plain": [
              "tensor([[0., 0., 0., 1., 0.],\n",
              "        [0., 1., 0., 0., 0.],\n",
              "        [0., 0., 1., 0., 0.]])"
            ]
          },
          "metadata": {
            "tags": []
          },
          "execution_count": 17
        }
      ]
    },
    {
      "cell_type": "code",
      "metadata": {
        "id": "gBM3iYPToIBD",
        "colab_type": "code",
        "outputId": "2d4225ae-6155-4105-cc4b-66131817a5bd",
        "colab": {
          "base_uri": "https://localhost:8080/",
          "height": 70
        }
      },
      "source": [
        "y.unsqueeze(1)"
      ],
      "execution_count": 0,
      "outputs": [
        {
          "output_type": "execute_result",
          "data": {
            "text/plain": [
              "tensor([[3],\n",
              "        [1],\n",
              "        [2]])"
            ]
          },
          "metadata": {
            "tags": []
          },
          "execution_count": 18
        }
      ]
    },
    {
      "cell_type": "code",
      "metadata": {
        "id": "3MxPcNk3oOAi",
        "colab_type": "code",
        "outputId": "5667c060-3cea-46f1-ff4d-a2e15aa24b5c",
        "colab": {
          "base_uri": "https://localhost:8080/",
          "height": 70
        }
      },
      "source": [
        "y_one_hot"
      ],
      "execution_count": 0,
      "outputs": [
        {
          "output_type": "execute_result",
          "data": {
            "text/plain": [
              "tensor([[0., 0., 0., 1., 0.],\n",
              "        [0., 1., 0., 0., 0.],\n",
              "        [0., 0., 1., 0., 0.]])"
            ]
          },
          "metadata": {
            "tags": []
          },
          "execution_count": 19
        }
      ]
    },
    {
      "cell_type": "code",
      "metadata": {
        "id": "fmwhufYxoTW6",
        "colab_type": "code",
        "outputId": "ebc4c1e0-371a-4da2-e1a6-800bbd238a23",
        "colab": {
          "base_uri": "https://localhost:8080/",
          "height": 70
        }
      },
      "source": [
        "torch.log(F.softmax(z, dim=1))"
      ],
      "execution_count": 0,
      "outputs": [
        {
          "output_type": "execute_result",
          "data": {
            "text/plain": [
              "tensor([[-1.7935, -1.6760, -1.7504, -1.3114, -1.5929],\n",
              "        [-1.6086, -1.7244, -1.5062, -1.6381, -1.5826],\n",
              "        [-1.7096, -1.4354, -1.4617, -2.2223, -1.4236]], grad_fn=<LogBackward>)"
            ]
          },
          "metadata": {
            "tags": []
          },
          "execution_count": 20
        }
      ]
    },
    {
      "cell_type": "code",
      "metadata": {
        "id": "p--839TCoa4J",
        "colab_type": "code",
        "outputId": "08c435e1-bcf3-470b-efa6-4387a064cbe8",
        "colab": {
          "base_uri": "https://localhost:8080/",
          "height": 88
        }
      },
      "source": [
        "F.log_softmax(z, dim=1)"
      ],
      "execution_count": 0,
      "outputs": [
        {
          "output_type": "execute_result",
          "data": {
            "text/plain": [
              "tensor([[-1.7935, -1.6760, -1.7504, -1.3114, -1.5929],\n",
              "        [-1.6086, -1.7244, -1.5062, -1.6381, -1.5826],\n",
              "        [-1.7096, -1.4354, -1.4617, -2.2223, -1.4236]],\n",
              "       grad_fn=<LogSoftmaxBackward>)"
            ]
          },
          "metadata": {
            "tags": []
          },
          "execution_count": 21
        }
      ]
    },
    {
      "cell_type": "code",
      "metadata": {
        "id": "N-Wt3ArEogC1",
        "colab_type": "code",
        "outputId": "33e2e603-dd05-4c8b-dce4-e3e8c55415b0",
        "colab": {
          "base_uri": "https://localhost:8080/",
          "height": 35
        }
      },
      "source": [
        "#1\n",
        "(y_one_hot * -torch.log(F.softmax(z, dim=1))).sum(dim=1).mean()"
      ],
      "execution_count": 0,
      "outputs": [
        {
          "output_type": "execute_result",
          "data": {
            "text/plain": [
              "tensor(1.4992, grad_fn=<MeanBackward0>)"
            ]
          },
          "metadata": {
            "tags": []
          },
          "execution_count": 26
        }
      ]
    },
    {
      "cell_type": "code",
      "metadata": {
        "id": "LXRe3dQwovA6",
        "colab_type": "code",
        "outputId": "b56553d3-5556-4fa3-93a4-38d6bb914465",
        "colab": {
          "base_uri": "https://localhost:8080/",
          "height": 35
        }
      },
      "source": [
        "#2\n",
        "(y_one_hot * -F.log_softmax(z, dim=1)).sum(dim=1).mean()"
      ],
      "execution_count": 0,
      "outputs": [
        {
          "output_type": "execute_result",
          "data": {
            "text/plain": [
              "tensor(1.4992, grad_fn=<MeanBackward0>)"
            ]
          },
          "metadata": {
            "tags": []
          },
          "execution_count": 27
        }
      ]
    },
    {
      "cell_type": "code",
      "metadata": {
        "id": "Qu514Bh4o3Gp",
        "colab_type": "code",
        "outputId": "36c811c4-15c3-444f-b87a-37bfaa1062b5",
        "colab": {
          "base_uri": "https://localhost:8080/",
          "height": 35
        }
      },
      "source": [
        "#3\n",
        "F.nll_loss(F.log_softmax(z, dim=1), y)"
      ],
      "execution_count": 0,
      "outputs": [
        {
          "output_type": "execute_result",
          "data": {
            "text/plain": [
              "tensor(1.4992, grad_fn=<NllLossBackward>)"
            ]
          },
          "metadata": {
            "tags": []
          },
          "execution_count": 28
        }
      ]
    },
    {
      "cell_type": "code",
      "metadata": {
        "id": "fuP7VVR5o81B",
        "colab_type": "code",
        "outputId": "40a2c1d2-102e-495e-daf0-133daf9973bf",
        "colab": {
          "base_uri": "https://localhost:8080/",
          "height": 35
        }
      },
      "source": [
        "#4\n",
        "F.cross_entropy(z, y)"
      ],
      "execution_count": 0,
      "outputs": [
        {
          "output_type": "execute_result",
          "data": {
            "text/plain": [
              "tensor(1.4992, grad_fn=<NllLossBackward>)"
            ]
          },
          "metadata": {
            "tags": []
          },
          "execution_count": 29
        }
      ]
    },
    {
      "cell_type": "markdown",
      "metadata": {
        "id": "6-pRBbIIpFs-",
        "colab_type": "text"
      },
      "source": [
        "소프트맥스 회귀 구현하기"
      ]
    },
    {
      "cell_type": "code",
      "metadata": {
        "id": "6Z3su6ZwpAuZ",
        "colab_type": "code",
        "colab": {}
      },
      "source": [
        "import torch\n",
        "import torch.nn as nn\n",
        "import torch.nn.functional as F\n",
        "import torch.optim as optim"
      ],
      "execution_count": 0,
      "outputs": []
    },
    {
      "cell_type": "code",
      "metadata": {
        "id": "kaPjGsNQpNdq",
        "colab_type": "code",
        "colab": {}
      },
      "source": [
        "x_train = [[1, 2, 1, 1],\n",
        "           [2, 1, 3, 2],\n",
        "           [3, 1, 3, 4],\n",
        "           [4, 1, 5, 5],\n",
        "           [1, 7, 5, 5],\n",
        "           [1, 2, 5, 6],\n",
        "           [1, 6, 6, 6],\n",
        "           [1, 7, 7, 7]]\n",
        "y_train = [2, 2, 2, 1, 1, 1, 0, 0]\n",
        "x_train = torch.FloatTensor(x_train)\n",
        "y_train = torch.LongTensor(y_train)"
      ],
      "execution_count": 0,
      "outputs": []
    },
    {
      "cell_type": "markdown",
      "metadata": {
        "id": "9omVeREvpTJe",
        "colab_type": "text"
      },
      "source": [
        "로우레벨 소프트맥스 회귀 구현하기"
      ]
    },
    {
      "cell_type": "code",
      "metadata": {
        "id": "jyfPejJepQUh",
        "colab_type": "code",
        "outputId": "70833b89-1369-418f-9e02-bc185fecc2b1",
        "colab": {
          "base_uri": "https://localhost:8080/",
          "height": 52
        }
      },
      "source": [
        "print(x_train.shape)\n",
        "print(y_train.shape)"
      ],
      "execution_count": 0,
      "outputs": [
        {
          "output_type": "stream",
          "text": [
            "torch.Size([8, 4])\n",
            "torch.Size([8])\n"
          ],
          "name": "stdout"
        }
      ]
    },
    {
      "cell_type": "code",
      "metadata": {
        "id": "skcXZyT5paV6",
        "colab_type": "code",
        "outputId": "67cd4006-f8fb-4314-eb51-ee142813655f",
        "colab": {
          "base_uri": "https://localhost:8080/",
          "height": 35
        }
      },
      "source": [
        "y_one_hot = torch.zeros(8, 3)\n",
        "y_one_hot.scatter_(1, y_train.unsqueeze(1),1)\n",
        "y_one_hot.shape"
      ],
      "execution_count": 0,
      "outputs": [
        {
          "output_type": "execute_result",
          "data": {
            "text/plain": [
              "torch.Size([8, 3])"
            ]
          },
          "metadata": {
            "tags": []
          },
          "execution_count": 33
        }
      ]
    },
    {
      "cell_type": "code",
      "metadata": {
        "id": "I6mABjWKpnPL",
        "colab_type": "code",
        "colab": {}
      },
      "source": [
        "W = torch.zeros((4,3), requires_grad = True)\n",
        "b = torch.zeros(3, requires_grad=True)\n",
        "\n",
        "optimizer = optim.SGD([W,b], lr=0.1)"
      ],
      "execution_count": 0,
      "outputs": []
    },
    {
      "cell_type": "code",
      "metadata": {
        "id": "QaUIth9cpuCy",
        "colab_type": "code",
        "outputId": "aa6f7c22-2c85-49b4-a68e-80cfa4de0300",
        "colab": {
          "base_uri": "https://localhost:8080/",
          "height": 212
        }
      },
      "source": [
        "\n",
        "nb_epochs = 1000\n",
        "for epoch in range(nb_epochs + 1):\n",
        "\n",
        "    # 가설\n",
        "    hypothesis = F.softmax(x_train.matmul(W) + b, dim=1) \n",
        "\n",
        "    # 비용 함수\n",
        "    cost = (y_one_hot * -torch.log(hypothesis)).sum(dim=1).mean()\n",
        "\n",
        "    # cost로 H(x) 개선\n",
        "    optimizer.zero_grad()\n",
        "    cost.backward()\n",
        "    optimizer.step()\n",
        "\n",
        "    # 100번마다 로그 출력\n",
        "    if epoch % 100 == 0:\n",
        "        print('Epoch {:4d}/{} Cost: {:.6f}'.format(\n",
        "            epoch, nb_epochs, cost.item()\n",
        "        ))"
      ],
      "execution_count": 0,
      "outputs": [
        {
          "output_type": "stream",
          "text": [
            "Epoch    0/1000 Cost: 1.098612\n",
            "Epoch  100/1000 Cost: 0.761050\n",
            "Epoch  200/1000 Cost: 0.689991\n",
            "Epoch  300/1000 Cost: 0.643229\n",
            "Epoch  400/1000 Cost: 0.604117\n",
            "Epoch  500/1000 Cost: 0.568255\n",
            "Epoch  600/1000 Cost: 0.533922\n",
            "Epoch  700/1000 Cost: 0.500291\n",
            "Epoch  800/1000 Cost: 0.466908\n",
            "Epoch  900/1000 Cost: 0.433507\n",
            "Epoch 1000/1000 Cost: 0.399962\n"
          ],
          "name": "stdout"
        }
      ]
    },
    {
      "cell_type": "markdown",
      "metadata": {
        "id": "k2TdHBTGp7ux",
        "colab_type": "text"
      },
      "source": [
        "하이레벨 소프트맥스 회귀"
      ]
    },
    {
      "cell_type": "code",
      "metadata": {
        "id": "QLPg5x7Mp6bx",
        "colab_type": "code",
        "outputId": "2ddf51a4-9da7-4810-f14e-aebf172b3c12",
        "colab": {
          "base_uri": "https://localhost:8080/",
          "height": 212
        }
      },
      "source": [
        "W = torch.zeros((4,3),requires_grad=True)\n",
        "b = torch.zeros(3,requires_grad=True)\n",
        "\n",
        "optimizer = optim.SGD([W,b], lr=0.1)\n",
        "\n",
        "nb_epochs = 1000\n",
        "for epoch in range(nb_epochs+1):\n",
        "\n",
        "  z = x_train.matmul(W)+b\n",
        "  cost = F.cross_entropy(z, y_train)\n",
        "\n",
        "  optimizer.zero_grad()\n",
        "  cost.backward()\n",
        "  optimizer.step()\n",
        "\n",
        "  if epoch % 100==0:\n",
        "    print('Epoch {:4d}/{} Cost : {:.6f}'.format(epoch, nb_epochs, cost.item()))"
      ],
      "execution_count": 0,
      "outputs": [
        {
          "output_type": "stream",
          "text": [
            "Epoch    0/1000 Cost : 1.098612\n",
            "Epoch  100/1000 Cost : 0.761050\n",
            "Epoch  200/1000 Cost : 0.689991\n",
            "Epoch  300/1000 Cost : 0.643229\n",
            "Epoch  400/1000 Cost : 0.604117\n",
            "Epoch  500/1000 Cost : 0.568255\n",
            "Epoch  600/1000 Cost : 0.533922\n",
            "Epoch  700/1000 Cost : 0.500291\n",
            "Epoch  800/1000 Cost : 0.466908\n",
            "Epoch  900/1000 Cost : 0.433506\n",
            "Epoch 1000/1000 Cost : 0.399962\n"
          ],
          "name": "stdout"
        }
      ]
    },
    {
      "cell_type": "markdown",
      "metadata": {
        "id": "iaYZ3dL2qiME",
        "colab_type": "text"
      },
      "source": [
        "소프트맥스 회귀 nn.Module로 구현"
      ]
    },
    {
      "cell_type": "code",
      "metadata": {
        "id": "HKdJisYJqgwN",
        "colab_type": "code",
        "colab": {}
      },
      "source": [
        "model = nn.Linear(4,3)"
      ],
      "execution_count": 0,
      "outputs": []
    },
    {
      "cell_type": "code",
      "metadata": {
        "id": "EGus5oDnqmCq",
        "colab_type": "code",
        "outputId": "0fb45f41-31e6-4f30-8ca5-5ca36debb12e",
        "colab": {
          "base_uri": "https://localhost:8080/",
          "height": 212
        }
      },
      "source": [
        "optimizer = optim.SGD(model.parameters(), lr=0.1)\n",
        "\n",
        "nb_epochs = 1000\n",
        "for epoch in range(nb_epochs+1):\n",
        "  prediction = model(x_train)\n",
        "  cost = F.cross_entropy(prediction, y_train)\n",
        "\n",
        "  optimizer.zero_grad()\n",
        "  cost.backward()\n",
        "  optimizer.step()\n",
        "\n",
        "  if epoch % 100 ==0:\n",
        "    print('Epoch {:4d}/{} Cost : {:.6f}'.format(epoch,nb_epochs,cost.item()))"
      ],
      "execution_count": 0,
      "outputs": [
        {
          "output_type": "stream",
          "text": [
            "Epoch    0/1000 Cost : 1.845720\n",
            "Epoch  100/1000 Cost : 0.647150\n",
            "Epoch  200/1000 Cost : 0.568868\n",
            "Epoch  300/1000 Cost : 0.515699\n",
            "Epoch  400/1000 Cost : 0.471727\n",
            "Epoch  500/1000 Cost : 0.432486\n",
            "Epoch  600/1000 Cost : 0.395879\n",
            "Epoch  700/1000 Cost : 0.360506\n",
            "Epoch  800/1000 Cost : 0.325227\n",
            "Epoch  900/1000 Cost : 0.289217\n",
            "Epoch 1000/1000 Cost : 0.254086\n"
          ],
          "name": "stdout"
        }
      ]
    },
    {
      "cell_type": "markdown",
      "metadata": {
        "id": "OMQRbHjbrhlH",
        "colab_type": "text"
      },
      "source": [
        "소프트맥스 회귀 클래스로 구현"
      ]
    },
    {
      "cell_type": "code",
      "metadata": {
        "id": "YAO26bRerUk0",
        "colab_type": "code",
        "colab": {}
      },
      "source": [
        "class SoftmaxClassifierModel(nn.Module):\n",
        "  def __init__(self):\n",
        "    super().__init__()\n",
        "    self.linear = nn.Linear(4, 3)\n",
        "  def forward(self, x):\n",
        "    return self.linear(x)"
      ],
      "execution_count": 0,
      "outputs": []
    },
    {
      "cell_type": "code",
      "metadata": {
        "id": "cvPkHKjHrw0l",
        "colab_type": "code",
        "colab": {}
      },
      "source": [
        "model = SoftmaxClassifierModel()"
      ],
      "execution_count": 0,
      "outputs": []
    },
    {
      "cell_type": "code",
      "metadata": {
        "id": "0IEP2RC7r5y7",
        "colab_type": "code",
        "outputId": "cee10431-9b43-48ec-f305-fcaaf518c033",
        "colab": {
          "base_uri": "https://localhost:8080/",
          "height": 212
        }
      },
      "source": [
        "optimizer = optim.SGD(model.parameters(), lr=0.1)\n",
        "\n",
        "nb_epochs = 1000\n",
        "for epoch in range(nb_epochs + 1):\n",
        "\n",
        "    # H(x) 계산\n",
        "    prediction = model(x_train)\n",
        "\n",
        "    # cost 계산\n",
        "    cost = F.cross_entropy(prediction, y_train)\n",
        "\n",
        "    # cost로 H(x) 개선\n",
        "    optimizer.zero_grad()\n",
        "    cost.backward()\n",
        "    optimizer.step()\n",
        "\n",
        "    # 20번마다 로그 출력\n",
        "    if epoch % 100 == 0:\n",
        "        print('Epoch {:4d}/{} Cost: {:.6f}'.format(\n",
        "            epoch, nb_epochs, cost.item()\n",
        "        ))"
      ],
      "execution_count": 0,
      "outputs": [
        {
          "output_type": "stream",
          "text": [
            "Epoch    0/1000 Cost: 3.586500\n",
            "Epoch  100/1000 Cost: 0.650367\n",
            "Epoch  200/1000 Cost: 0.566842\n",
            "Epoch  300/1000 Cost: 0.512495\n",
            "Epoch  400/1000 Cost: 0.468165\n",
            "Epoch  500/1000 Cost: 0.428759\n",
            "Epoch  600/1000 Cost: 0.391982\n",
            "Epoch  700/1000 Cost: 0.356357\n",
            "Epoch  800/1000 Cost: 0.320726\n",
            "Epoch  900/1000 Cost: 0.284398\n",
            "Epoch 1000/1000 Cost: 0.250610\n"
          ],
          "name": "stdout"
        }
      ]
    },
    {
      "cell_type": "markdown",
      "metadata": {
        "id": "obVBMVYLsFye",
        "colab_type": "text"
      },
      "source": [
        "소프트맥스 회귀로 MNIST 데이터 분류하기"
      ]
    },
    {
      "cell_type": "code",
      "metadata": {
        "id": "h1Bqsle_r_xy",
        "colab_type": "code",
        "colab": {}
      },
      "source": [
        ""
      ],
      "execution_count": 0,
      "outputs": []
    }
  ]
}