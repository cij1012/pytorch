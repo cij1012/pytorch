{
  "nbformat": 4,
  "nbformat_minor": 0,
  "metadata": {
    "colab": {
      "name": "Untitled13.ipynb",
      "provenance": [],
      "authorship_tag": "ABX9TyPaS7A44mTTpT5B80BO7P+t",
      "include_colab_link": true
    },
    "kernelspec": {
      "name": "python3",
      "display_name": "Python 3"
    },
    "accelerator": "GPU"
  },
  "cells": [
    {
      "cell_type": "markdown",
      "metadata": {
        "id": "view-in-github",
        "colab_type": "text"
      },
      "source": [
        "<a href=\"https://colab.research.google.com/github/cij1012/pytrorch/blob/master/%EC%86%8C%ED%94%84%ED%8A%B8%EB%A7%A5%EC%8A%A4_mydata.ipynb\" target=\"_parent\"><img src=\"https://colab.research.google.com/assets/colab-badge.svg\" alt=\"Open In Colab\"/></a>"
      ]
    },
    {
      "cell_type": "code",
      "metadata": {
        "id": "8TrSU8i8nGYJ",
        "colab_type": "code",
        "colab": {}
      },
      "source": [
        "import torch\n",
        "import torch.nn as nn\n",
        "import torch.optim as optim\n",
        "\n",
        "import torchvision.datasets as dsets\n",
        "import torchvision.transforms as transforms\n",
        "from torch.utils.data import DataLoader\n",
        "import matplotlib.pyplot as plt\n",
        "import random"
      ],
      "execution_count": 0,
      "outputs": []
    },
    {
      "cell_type": "code",
      "metadata": {
        "id": "7DPoazqkn4HE",
        "colab_type": "code",
        "colab": {
          "base_uri": "https://localhost:8080/",
          "height": 35
        },
        "outputId": "a1838ea9-ab89-4d56-8bac-b2958fc15332"
      },
      "source": [
        "USE_CUDA = torch.cuda.is_available()\n",
        "device = torch.device(\"cuda\" if USE_CUDA else \"cpu\")\n",
        "print(\"학습\", device)"
      ],
      "execution_count": 2,
      "outputs": [
        {
          "output_type": "stream",
          "text": [
            "학습 cuda\n"
          ],
          "name": "stdout"
        }
      ]
    },
    {
      "cell_type": "code",
      "metadata": {
        "id": "LuFQU6qvoIpa",
        "colab_type": "code",
        "colab": {}
      },
      "source": [
        "torch.manual_seed(1012)\n",
        "if device == 'cuda':\n",
        "  torch.cuda.manual_seed_all(1012)"
      ],
      "execution_count": 0,
      "outputs": []
    },
    {
      "cell_type": "code",
      "metadata": {
        "id": "aU1YFV31oYdt",
        "colab_type": "code",
        "colab": {}
      },
      "source": [
        "kmnist_train = dsets.KMNIST(root='KMNIST_data/',\n",
        "                            train=True,\n",
        "                            transform=transforms.ToTensor(),\n",
        "                            download=True)\n",
        "kmnist_test = dsets.KMNIST(root='KMNIST_data/',\n",
        "                          train=False,\n",
        "                          transform=transforms.ToTensor(),\n",
        "                          download=True)"
      ],
      "execution_count": 0,
      "outputs": []
    },
    {
      "cell_type": "code",
      "metadata": {
        "id": "XYXtYqPSpcM8",
        "colab_type": "code",
        "colab": {}
      },
      "source": [
        "training_epochs = 15\n",
        "batch_size = 100"
      ],
      "execution_count": 0,
      "outputs": []
    },
    {
      "cell_type": "code",
      "metadata": {
        "id": "o2QgYXYlo9RD",
        "colab_type": "code",
        "colab": {}
      },
      "source": [
        "data_loader = DataLoader(dataset=kmnist_train,\n",
        "                         batch_size=batch_size,\n",
        "                         shuffle=True,\n",
        "                         drop_last=True)"
      ],
      "execution_count": 0,
      "outputs": []
    },
    {
      "cell_type": "code",
      "metadata": {
        "id": "GgBrmA7BpoBa",
        "colab_type": "code",
        "colab": {}
      },
      "source": [
        "linear = nn.Linear(784, 10, bias=True).to(device)"
      ],
      "execution_count": 0,
      "outputs": []
    },
    {
      "cell_type": "code",
      "metadata": {
        "id": "z69n4l6pqP1M",
        "colab_type": "code",
        "colab": {}
      },
      "source": [
        "cost = nn.CrossEntropyLoss().to(device)\n",
        "optimizer = torch.optim.SGD(linear.parameters(),lr=0.1)"
      ],
      "execution_count": 0,
      "outputs": []
    },
    {
      "cell_type": "code",
      "metadata": {
        "id": "hbf03s4kqgFp",
        "colab_type": "code",
        "colab": {
          "base_uri": "https://localhost:8080/",
          "height": 301
        },
        "outputId": "370117da-9fcb-41f4-b4f5-acf1d9a5d1af"
      },
      "source": [
        "for epoch in range(training_epochs):\n",
        "  avg_cost = 0\n",
        "  total_batch = len(data_loader)\n",
        "\n",
        "  for X,Y in data_loader:\n",
        "    X = X.view(-1,28 * 28).to(device)\n",
        "    Y = Y.to(device)\n",
        "\n",
        "    optimizer.zero_grad()\n",
        "    hypothesis = linear(X)\n",
        "    cost_new = cost(hypothesis, Y)\n",
        "    cost_new.backward()\n",
        "    optimizer.step()\n",
        "\n",
        "    avg_cost += cost_new / total_batch\n",
        "  print('Epoch','%04d' % (epoch+1), 'cost =', '{:.9f}'.format(avg_cost))\n",
        "print('Learning finished')"
      ],
      "execution_count": 18,
      "outputs": [
        {
          "output_type": "stream",
          "text": [
            "Epoch 0001 cost = 0.803002059\n",
            "Epoch 0002 cost = 0.639214993\n",
            "Epoch 0003 cost = 0.612720847\n",
            "Epoch 0004 cost = 0.599044323\n",
            "Epoch 0005 cost = 0.589987159\n",
            "Epoch 0006 cost = 0.584010243\n",
            "Epoch 0007 cost = 0.579033852\n",
            "Epoch 0008 cost = 0.574843407\n",
            "Epoch 0009 cost = 0.571926236\n",
            "Epoch 0010 cost = 0.569032967\n",
            "Epoch 0011 cost = 0.566959023\n",
            "Epoch 0012 cost = 0.565079033\n",
            "Epoch 0013 cost = 0.563344538\n",
            "Epoch 0014 cost = 0.561343551\n",
            "Epoch 0015 cost = 0.560625196\n",
            "Learning finished\n"
          ],
          "name": "stdout"
        }
      ]
    },
    {
      "cell_type": "code",
      "metadata": {
        "id": "XMtA7jGmrWj1",
        "colab_type": "code",
        "colab": {
          "base_uri": "https://localhost:8080/",
          "height": 372
        },
        "outputId": "b2d9dc05-442d-460d-f8cf-a82042e1fdb7"
      },
      "source": [
        "with torch.no_grad():\n",
        "  X_test = kmnist_test.test_data.view(-1, 28 * 28).float().to(device)\n",
        "  Y_test = kmnist_test.test_labels.to(device)\n",
        "\n",
        "  prediction = linear(X_test)\n",
        "  correct_pred = torch.argmax(prediction, 1)==Y_test\n",
        "  accuaracy = correct_pred.float().mean()\n",
        "\n",
        "  r = random.randint(0, len(kmnist_test)-1)\n",
        "  X_single = kmnist_test.test_data[r:r+1].view(-1, 28 * 28).float().to(device)\n",
        "  Y_single = kmnist_test.test_labels[r:r+1].to(device)\n",
        "\n",
        "  print('Label : ',Y_single.item())\n",
        "  single_pred = linear(X_single)\n",
        "  print('Prediction : ', torch.argmax(single_pred, 1).item())\n",
        "\n",
        "  plt.imshow(kmnist_test.test_data[r:r+1].view(28,28), cmap='Greys', interpolation='nearest')\n",
        "  plt.show()"
      ],
      "execution_count": 40,
      "outputs": [
        {
          "output_type": "stream",
          "text": [
            "Label :  6\n",
            "Prediction :  6\n"
          ],
          "name": "stdout"
        },
        {
          "output_type": "stream",
          "text": [
            "/usr/local/lib/python3.6/dist-packages/torchvision/datasets/mnist.py:60: UserWarning: test_data has been renamed data\n",
            "  warnings.warn(\"test_data has been renamed data\")\n",
            "/usr/local/lib/python3.6/dist-packages/torchvision/datasets/mnist.py:50: UserWarning: test_labels has been renamed targets\n",
            "  warnings.warn(\"test_labels has been renamed targets\")\n"
          ],
          "name": "stderr"
        },
        {
          "output_type": "display_data",
          "data": {
            "image/png": "[encoded data removed]",
            "text/plain": [
              "<Figure size 432x288 with 1 Axes>"
            ]
          },
          "metadata": {
            "tags": [],
            "needs_background": "light"
          }
        }
      ]
    },
    {
      "cell_type": "code",
      "metadata": {
        "id": "TVlIuCB4t8AL",
        "colab_type": "code",
        "colab": {}
      },
      "source": [
        ""
      ],
      "execution_count": 0,
      "outputs": []
    }
  ]
}