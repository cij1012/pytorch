{
  "nbformat": 4,
  "nbformat_minor": 0,
  "metadata": {
    "colab": {
      "name": "Untitled26.ipynb",
      "provenance": [],
      "authorship_tag": "ABX9TyMz+vnBgr/C15t2Gcdux2JF",
      "include_colab_link": true
    },
    "kernelspec": {
      "name": "python3",
      "display_name": "Python 3"
    }
  },
  "cells": [
    {
      "cell_type": "markdown",
      "metadata": {
        "id": "view-in-github",
        "colab_type": "text"
      },
      "source": [
        "<a href=\"https://colab.research.google.com/github/cij1012/pytorch/blob/master/1228_1.ipynb\" target=\"_parent\"><img src=\"https://colab.research.google.com/assets/colab-badge.svg\" alt=\"Open In Colab\"/></a>"
      ]
    },
    {
      "cell_type": "code",
      "metadata": {
        "id": "McnaeL8R0s4o"
      },
      "source": [
        "import torch"
      ],
      "execution_count": 3,
      "outputs": []
    },
    {
      "cell_type": "code",
      "metadata": {
        "id": "4MDMbSb50t7L"
      },
      "source": [
        "import torch.autograd\r\n",
        "import torch.nn\r\n",
        "import torch.optim\r\n",
        "import torch.utils.data\r\n",
        "import torch.onnx"
      ],
      "execution_count": 4,
      "outputs": []
    },
    {
      "cell_type": "code",
      "metadata": {
        "colab": {
          "base_uri": "https://localhost:8080/"
        },
        "id": "ppkbagXl1O-J",
        "outputId": "ddd28922-6ac7-41cb-f788-8030b178ce44"
      },
      "source": [
        "#2D Tensor\r\n",
        "from sklearn.datasets import load_iris\r\n",
        "\r\n",
        "iris = load_iris()\r\n",
        "print(iris.data.shape)\r\n",
        "iris['data'][:10]"
      ],
      "execution_count": 6,
      "outputs": [
        {
          "output_type": "stream",
          "text": [
            "(150, 4)\n"
          ],
          "name": "stdout"
        },
        {
          "output_type": "execute_result",
          "data": {
            "text/plain": [
              "array([[5.1, 3.5, 1.4, 0.2],\n",
              "       [4.9, 3. , 1.4, 0.2],\n",
              "       [4.7, 3.2, 1.3, 0.2],\n",
              "       [4.6, 3.1, 1.5, 0.2],\n",
              "       [5. , 3.6, 1.4, 0.2],\n",
              "       [5.4, 3.9, 1.7, 0.4],\n",
              "       [4.6, 3.4, 1.4, 0.3],\n",
              "       [5. , 3.4, 1.5, 0.2],\n",
              "       [4.4, 2.9, 1.4, 0.2],\n",
              "       [4.9, 3.1, 1.5, 0.1]])"
            ]
          },
          "metadata": {
            "tags": []
          },
          "execution_count": 6
        }
      ]
    },
    {
      "cell_type": "code",
      "metadata": {
        "colab": {
          "base_uri": "https://localhost:8080/",
          "height": 301
        },
        "id": "QYrufI_J33zC",
        "outputId": "2b191bf0-06b2-48cf-d943-e1cd281d7b65"
      },
      "source": [
        "#3D Tensor\r\n",
        "from sklearn.datasets import load_digits\r\n",
        "import matplotlib.pyplot as plt\r\n",
        "\r\n",
        "mnist = load_digits()\r\n",
        "print(mnist['images'].shape)\r\n",
        "plt.imshow(mnist['images'][100],cmap='gray')\r\n",
        "plt.show"
      ],
      "execution_count": 7,
      "outputs": [
        {
          "output_type": "stream",
          "text": [
            "(1797, 8, 8)\n"
          ],
          "name": "stdout"
        },
        {
          "output_type": "execute_result",
          "data": {
            "text/plain": [
              "<function matplotlib.pyplot.show>"
            ]
          },
          "metadata": {
            "tags": []
          },
          "execution_count": 7
        },
        {
          "output_type": "display_data",
          "data": {
            "image/png": "[encoded data removed]",
            "text/plain": [
              "<Figure size 432x288 with 1 Axes>"
            ]
          },
          "metadata": {
            "tags": [],
            "needs_background": "light"
          }
        }
      ]
    },
    {
      "cell_type": "code",
      "metadata": {
        "colab": {
          "base_uri": "https://localhost:8080/"
        },
        "id": "y6Pe34gk47Mb",
        "outputId": "67671383-8b71-4da6-fd19-be4ccf14e0d0"
      },
      "source": [
        "t = torch.tensor([0.,1.,2.,3.,4.,5.,6.])\r\n",
        "print(t)"
      ],
      "execution_count": 9,
      "outputs": [
        {
          "output_type": "stream",
          "text": [
            "tensor([0., 1., 2., 3., 4., 5., 6.])\n"
          ],
          "name": "stdout"
        }
      ]
    },
    {
      "cell_type": "code",
      "metadata": {
        "colab": {
          "base_uri": "https://localhost:8080/"
        },
        "id": "bZesAFtS5h8H",
        "outputId": "85fd0913-32f8-4c17-801f-d91444cab80a"
      },
      "source": [
        "print(t.dim())\r\n",
        "print(t.shape)\r\n",
        "print(t.size())"
      ],
      "execution_count": 10,
      "outputs": [
        {
          "output_type": "stream",
          "text": [
            "1\n",
            "torch.Size([7])\n",
            "torch.Size([7])\n"
          ],
          "name": "stdout"
        }
      ]
    },
    {
      "cell_type": "code",
      "metadata": {
        "id": "SaPLjpRj5mNO"
      },
      "source": [
        "m1 = torch.tensor([[3.,3.]])\r\n",
        "m2 = torch.tensor([[2.,2.]])"
      ],
      "execution_count": 12,
      "outputs": []
    },
    {
      "cell_type": "code",
      "metadata": {
        "colab": {
          "base_uri": "https://localhost:8080/"
        },
        "id": "tXxob6Ya556V",
        "outputId": "a1fc8134-61ef-4b0a-d4db-e60fed459b1e"
      },
      "source": [
        "print(m1+m2)"
      ],
      "execution_count": 13,
      "outputs": [
        {
          "output_type": "stream",
          "text": [
            "tensor([[5., 5.]])\n"
          ],
          "name": "stdout"
        }
      ]
    },
    {
      "cell_type": "code",
      "metadata": {
        "id": "daJlz_On6IDo"
      },
      "source": [
        "# Tensor 조작하기\r\n",
        "t = np.array([[[0, 1, 2],\r\n",
        "               [3, 4, 5]],\r\n",
        "              [[6, 7, 8],\r\n",
        "               [9, 10, 11]]])\r\n",
        "ft = torch.FloatTensor(t)"
      ],
      "execution_count": 14,
      "outputs": []
    },
    {
      "cell_type": "code",
      "metadata": {
        "colab": {
          "base_uri": "https://localhost:8080/",
          "height": 521
        },
        "id": "BBnvtxteBpDI",
        "outputId": "87b4073c-913d-40e2-9da4-a7fce7f57a30"
      },
      "source": [
        "for image in t:\r\n",
        "  plt.imshow(image,cmap='gray')\r\n",
        "  plt.show()"
      ],
      "execution_count": 15,
      "outputs": [
        {
          "output_type": "display_data",
          "data": {
            "image/png": "[encoded data removed]",
            "text/plain": [
              "<Figure size 432x288 with 1 Axes>"
            ]
          },
          "metadata": {
            "tags": [],
            "needs_background": "light"
          }
        },
        {
          "output_type": "display_data",
          "data": {
            "image/png": "[encoded data removed]",
            "text/plain": [
              "<Figure size 432x288 with 1 Axes>"
            ]
          },
          "metadata": {
            "tags": [],
            "needs_background": "light"
          }
        }
      ]
    },
    {
      "cell_type": "code",
      "metadata": {
        "colab": {
          "base_uri": "https://localhost:8080/"
        },
        "id": "6N_hP_niBvMj",
        "outputId": "8e55949b-3eb9-442e-885b-dd918220c3a9"
      },
      "source": [
        "print(ft.shape)"
      ],
      "execution_count": 16,
      "outputs": [
        {
          "output_type": "stream",
          "text": [
            "torch.Size([2, 2, 3])\n"
          ],
          "name": "stdout"
        }
      ]
    },
    {
      "cell_type": "code",
      "metadata": {
        "colab": {
          "base_uri": "https://localhost:8080/"
        },
        "id": "IcnqNOX0BvKC",
        "outputId": "71485c24-43ba-4a13-f80d-8ffb4102ce75"
      },
      "source": [
        "# view - 원하는 크기의 차원으로 조절\r\n",
        "print(ft.view([-1,3]))\r\n",
        "print(ft.view([-1,3]).shape)"
      ],
      "execution_count": 17,
      "outputs": [
        {
          "output_type": "stream",
          "text": [
            "tensor([[ 0.,  1.,  2.],\n",
            "        [ 3.,  4.,  5.],\n",
            "        [ 6.,  7.,  8.],\n",
            "        [ 9., 10., 11.]])\n",
            "torch.Size([4, 3])\n"
          ],
          "name": "stdout"
        }
      ]
    },
    {
      "cell_type": "code",
      "metadata": {
        "colab": {
          "base_uri": "https://localhost:8080/"
        },
        "id": "HlCNSwUkBvHV",
        "outputId": "76a57dea-7427-4230-f9b3-bc13d14cec57"
      },
      "source": [
        "ft.view([-1,6])"
      ],
      "execution_count": 20,
      "outputs": [
        {
          "output_type": "execute_result",
          "data": {
            "text/plain": [
              "tensor([[ 0.,  1.,  2.,  3.,  4.,  5.],\n",
              "        [ 6.,  7.,  8.,  9., 10., 11.]])"
            ]
          },
          "metadata": {
            "tags": []
          },
          "execution_count": 20
        }
      ]
    },
    {
      "cell_type": "code",
      "metadata": {
        "colab": {
          "base_uri": "https://localhost:8080/"
        },
        "id": "UH3PG_EmBvA6",
        "outputId": "fe2c92a8-16ee-46d7-ba94-08ea0f2c9acc"
      },
      "source": [
        "# 스퀴즈 - 차원이 1인경우 해당차원 제거\r\n",
        "\r\n",
        "ft = torch.FloatTensor([[0], [1], [2]])\r\n",
        "print(ft)\r\n",
        "print(ft.shape)"
      ],
      "execution_count": 21,
      "outputs": [
        {
          "output_type": "stream",
          "text": [
            "tensor([[0.],\n",
            "        [1.],\n",
            "        [2.]])\n",
            "torch.Size([3, 1])\n"
          ],
          "name": "stdout"
        }
      ]
    },
    {
      "cell_type": "code",
      "metadata": {
        "colab": {
          "base_uri": "https://localhost:8080/"
        },
        "id": "P8bA6OFwCOGQ",
        "outputId": "1aecf600-4c2b-4858-8feb-517ff19797db"
      },
      "source": [
        "print(ft.squeeze())"
      ],
      "execution_count": 22,
      "outputs": [
        {
          "output_type": "stream",
          "text": [
            "tensor([0., 1., 2.])\n"
          ],
          "name": "stdout"
        }
      ]
    },
    {
      "cell_type": "code",
      "metadata": {
        "colab": {
          "base_uri": "https://localhost:8080/"
        },
        "id": "tOWxVnHwCQFf",
        "outputId": "d21928ef-f949-44e4-9745-75a282b94a44"
      },
      "source": [
        "# 언스퀴즈 - 특정 위치에 1인 차원을 추가\r\n",
        "ft = torch.Tensor([0,1,2])\r\n",
        "print(ft.shape)"
      ],
      "execution_count": 23,
      "outputs": [
        {
          "output_type": "stream",
          "text": [
            "torch.Size([3])\n"
          ],
          "name": "stdout"
        }
      ]
    },
    {
      "cell_type": "code",
      "metadata": {
        "colab": {
          "base_uri": "https://localhost:8080/"
        },
        "id": "AGpKpQTeCcfv",
        "outputId": "97b2e929-2d68-49ca-b9dd-4d3c281ad119"
      },
      "source": [
        "print(ft.unsqueeze(0))"
      ],
      "execution_count": 24,
      "outputs": [
        {
          "output_type": "stream",
          "text": [
            "tensor([[0., 1., 2.]])\n"
          ],
          "name": "stdout"
        }
      ]
    },
    {
      "cell_type": "code",
      "metadata": {
        "colab": {
          "base_uri": "https://localhost:8080/"
        },
        "id": "Ag11XwJZCe1x",
        "outputId": "a0b21720-f39e-44ba-bf05-d8c0220419dc"
      },
      "source": [
        "# dtype\r\n",
        "\r\n",
        "lt = torch.LongTensor([1,2,3,4])\r\n",
        "print(lt)"
      ],
      "execution_count": 25,
      "outputs": [
        {
          "output_type": "stream",
          "text": [
            "tensor([1, 2, 3, 4])\n"
          ],
          "name": "stdout"
        }
      ]
    },
    {
      "cell_type": "code",
      "metadata": {
        "colab": {
          "base_uri": "https://localhost:8080/"
        },
        "id": "6rNvqEzmDsEI",
        "outputId": "54740c9d-3801-43a2-e560-51c7c84dc991"
      },
      "source": [
        "print(lt.float())"
      ],
      "execution_count": 26,
      "outputs": [
        {
          "output_type": "stream",
          "text": [
            "tensor([1., 2., 3., 4.])\n"
          ],
          "name": "stdout"
        }
      ]
    },
    {
      "cell_type": "code",
      "metadata": {
        "colab": {
          "base_uri": "https://localhost:8080/"
        },
        "id": "3vlktsjrDtXX",
        "outputId": "94f07528-d353-4ace-d133-704106f1cce3"
      },
      "source": [
        "bt = torch.ByteTensor([True,False,False,True])\r\n",
        "print(bt)"
      ],
      "execution_count": 27,
      "outputs": [
        {
          "output_type": "stream",
          "text": [
            "tensor([1, 0, 0, 1], dtype=torch.uint8)\n"
          ],
          "name": "stdout"
        }
      ]
    },
    {
      "cell_type": "code",
      "metadata": {
        "colab": {
          "base_uri": "https://localhost:8080/"
        },
        "id": "yrFgIi5JD4dA",
        "outputId": "d402c8ec-9003-4581-eafd-6c30734f01a0"
      },
      "source": [
        "print(bt.long())\r\n",
        "print(bt.float())"
      ],
      "execution_count": 28,
      "outputs": [
        {
          "output_type": "stream",
          "text": [
            "tensor([1, 0, 0, 1])\n",
            "tensor([1., 0., 0., 1.])\n"
          ],
          "name": "stdout"
        }
      ]
    },
    {
      "cell_type": "code",
      "metadata": {
        "id": "BBKHTHlUD63A"
      },
      "source": [
        "# Tensor 연결하기 Concatenate\r\n",
        "\r\n",
        "x = torch.FloatTensor([[1,2],[3,4]])\r\n",
        "y = torch.FloatTensor([[5,6],[7,8]])"
      ],
      "execution_count": 29,
      "outputs": []
    },
    {
      "cell_type": "code",
      "metadata": {
        "colab": {
          "base_uri": "https://localhost:8080/"
        },
        "id": "aT8-Yg1mEJxa",
        "outputId": "6c146fc8-7e0b-416a-983f-3100ce2aa26f"
      },
      "source": [
        "print(torch.cat([x,y],dim=0)) # dim=0 -> 행을 기준으로 연결 2*2 - 2*2 -> 4*2"
      ],
      "execution_count": 30,
      "outputs": [
        {
          "output_type": "stream",
          "text": [
            "tensor([[1., 2.],\n",
            "        [3., 4.],\n",
            "        [5., 6.],\n",
            "        [7., 8.]])\n"
          ],
          "name": "stdout"
        }
      ]
    },
    {
      "cell_type": "code",
      "metadata": {
        "colab": {
          "base_uri": "https://localhost:8080/"
        },
        "id": "FbtgiYllEQlv",
        "outputId": "6521c20f-cd83-4c76-c01f-1164fe07e9d9"
      },
      "source": [
        "print(torch.cat([x,y],dim=1)) # 열을 기준으로 연결 2*4"
      ],
      "execution_count": 31,
      "outputs": [
        {
          "output_type": "stream",
          "text": [
            "tensor([[1., 2., 5., 6.],\n",
            "        [3., 4., 7., 8.]])\n"
          ],
          "name": "stdout"
        }
      ]
    },
    {
      "cell_type": "code",
      "metadata": {
        "id": "vztm1jndETAv"
      },
      "source": [
        "# 스택킹\r\n",
        "x = torch.FloatTensor([1, 4])\r\n",
        "y = torch.FloatTensor([2, 5])\r\n",
        "z = torch.FloatTensor([3, 6])"
      ],
      "execution_count": 32,
      "outputs": []
    },
    {
      "cell_type": "code",
      "metadata": {
        "colab": {
          "base_uri": "https://localhost:8080/"
        },
        "id": "nQCq81yYEbI5",
        "outputId": "ee24f4d1-eea9-4768-8080-8905f053f276"
      },
      "source": [
        "print(torch.stack([x,y,z],dim=1))"
      ],
      "execution_count": 34,
      "outputs": [
        {
          "output_type": "stream",
          "text": [
            "tensor([[1., 2., 3.],\n",
            "        [4., 5., 6.]])\n"
          ],
          "name": "stdout"
        }
      ]
    },
    {
      "cell_type": "code",
      "metadata": {
        "colab": {
          "base_uri": "https://localhost:8080/"
        },
        "id": "8AXks6R8Edi_",
        "outputId": "c30f02a9-3b8e-404e-f0d4-550c392ae5c4"
      },
      "source": [
        "# ones_like & zeros_like\r\n",
        "x = torch.FloatTensor([[0, 1, 2], [2, 1, 0]])\r\n",
        "print(x)"
      ],
      "execution_count": 35,
      "outputs": [
        {
          "output_type": "stream",
          "text": [
            "tensor([[0., 1., 2.],\n",
            "        [2., 1., 0.]])\n"
          ],
          "name": "stdout"
        }
      ]
    },
    {
      "cell_type": "code",
      "metadata": {
        "colab": {
          "base_uri": "https://localhost:8080/"
        },
        "id": "0OwFE4ZIErrD",
        "outputId": "06b10f89-5ced-42fd-a0a2-5f1c0737898a"
      },
      "source": [
        "print(torch.ones_like(x)) # x와 같은 크기의 1로 이루어진 텐서"
      ],
      "execution_count": 36,
      "outputs": [
        {
          "output_type": "stream",
          "text": [
            "tensor([[1., 1., 1.],\n",
            "        [1., 1., 1.]])\n"
          ],
          "name": "stdout"
        }
      ]
    },
    {
      "cell_type": "code",
      "metadata": {
        "colab": {
          "base_uri": "https://localhost:8080/"
        },
        "id": "Z2G5pJokEts3",
        "outputId": "39c68cfc-3b13-4121-9c58-3950d191d3bd"
      },
      "source": [
        "print(torch.zeros_like(x)) # x와 같은 크기의 0으로 이루어진 텐서"
      ],
      "execution_count": 38,
      "outputs": [
        {
          "output_type": "stream",
          "text": [
            "tensor([[0., 0., 0.],\n",
            "        [0., 0., 0.]])\n"
          ],
          "name": "stdout"
        }
      ]
    },
    {
      "cell_type": "code",
      "metadata": {
        "id": "9eGEfN2HEzRJ"
      },
      "source": [
        "# 덮어쓰기 연산\r\n",
        "x = torch.FloatTensor([[1, 2], [3, 4]])\r\n"
      ],
      "execution_count": 39,
      "outputs": []
    },
    {
      "cell_type": "code",
      "metadata": {
        "colab": {
          "base_uri": "https://localhost:8080/"
        },
        "id": "ZJf7vIPKE9hn",
        "outputId": "a57373c6-5651-46df-fad7-9a0b685d0f23"
      },
      "source": [
        "print(x.mul(2.))\r\n",
        "print(x)"
      ],
      "execution_count": 43,
      "outputs": [
        {
          "output_type": "stream",
          "text": [
            "tensor([[2., 4.],\n",
            "        [6., 8.]])\n",
            "tensor([[1., 2.],\n",
            "        [3., 4.]])\n"
          ],
          "name": "stdout"
        }
      ]
    },
    {
      "cell_type": "code",
      "metadata": {
        "colab": {
          "base_uri": "https://localhost:8080/"
        },
        "id": "SDURwUbwE__H",
        "outputId": "55af7cf8-5e7a-42bb-eac3-1356b1cdef35"
      },
      "source": [
        "print(x.mul_(2.)) # x = x.mul(2) 과 같은 뜻\r\n",
        "print(x)"
      ],
      "execution_count": 44,
      "outputs": [
        {
          "output_type": "stream",
          "text": [
            "tensor([[2., 4.],\n",
            "        [6., 8.]])\n",
            "tensor([[2., 4.],\n",
            "        [6., 8.]])\n"
          ],
          "name": "stdout"
        }
      ]
    },
    {
      "cell_type": "code",
      "metadata": {
        "colab": {
          "base_uri": "https://localhost:8080/"
        },
        "id": "KcKWSwj6FFaM",
        "outputId": "939c9e57-59dd-4ad2-b7c9-cc7c5840debd"
      },
      "source": [
        "x"
      ],
      "execution_count": 45,
      "outputs": [
        {
          "output_type": "execute_result",
          "data": {
            "text/plain": [
              "tensor([[2., 4.],\n",
              "        [6., 8.]])"
            ]
          },
          "metadata": {
            "tags": []
          },
          "execution_count": 45
        }
      ]
    },
    {
      "cell_type": "code",
      "metadata": {
        "id": "O4lo6aeSFGN2"
      },
      "source": [
        "# 클래스 만들기\r\n",
        "\r\n",
        "result = 0"
      ],
      "execution_count": 46,
      "outputs": []
    },
    {
      "cell_type": "code",
      "metadata": {
        "id": "mo_3VIOMGaBY"
      },
      "source": [
        "def add(num):\r\n",
        "  global result\r\n",
        "  result +=num\r\n",
        "  return result"
      ],
      "execution_count": 47,
      "outputs": []
    },
    {
      "cell_type": "code",
      "metadata": {
        "colab": {
          "base_uri": "https://localhost:8080/"
        },
        "id": "qOjpQ1pSGe03",
        "outputId": "29b0b09f-5c04-4027-953d-5a3d83ac90e6"
      },
      "source": [
        "add(3)\r\n",
        "add(4)"
      ],
      "execution_count": 48,
      "outputs": [
        {
          "output_type": "execute_result",
          "data": {
            "text/plain": [
              "7"
            ]
          },
          "metadata": {
            "tags": []
          },
          "execution_count": 48
        }
      ]
    },
    {
      "cell_type": "code",
      "metadata": {
        "id": "yzfoMhNSGhFn"
      },
      "source": [
        "class Calculator:\r\n",
        "  def __init__(self):\r\n",
        "    self.result = 0\r\n",
        "  def add(self, num):\r\n",
        "    self.result += num\r\n",
        "    return self.result"
      ],
      "execution_count": 49,
      "outputs": []
    },
    {
      "cell_type": "code",
      "metadata": {
        "id": "XPRVJmx0Gqx7"
      },
      "source": [
        "cal1 = Calculator()"
      ],
      "execution_count": 50,
      "outputs": []
    },
    {
      "cell_type": "code",
      "metadata": {
        "id": "BNgyydnsGsRT"
      },
      "source": [
        "cal2 = Calculator()"
      ],
      "execution_count": 51,
      "outputs": []
    },
    {
      "cell_type": "code",
      "metadata": {
        "colab": {
          "base_uri": "https://localhost:8080/"
        },
        "id": "gly-MP_YGtKc",
        "outputId": "12b07ce4-4430-4e2f-878a-b90bbcd74e9f"
      },
      "source": [
        "print(cal1.add(3))\r\n",
        "print(cal1.add(4))\r\n",
        "print(cal2.add(3))\r\n",
        "print(cal2.add(7))"
      ],
      "execution_count": 52,
      "outputs": [
        {
          "output_type": "stream",
          "text": [
            "3\n",
            "7\n",
            "3\n",
            "10\n"
          ],
          "name": "stdout"
        }
      ]
    },
    {
      "cell_type": "code",
      "metadata": {
        "id": "xbOzp_IjGuhM"
      },
      "source": [
        ""
      ],
      "execution_count": null,
      "outputs": []
    }
  ]
}